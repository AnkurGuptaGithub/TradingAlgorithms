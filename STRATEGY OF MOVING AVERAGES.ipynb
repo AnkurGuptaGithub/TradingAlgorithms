{
 "cells": [
  {
   "cell_type": "code",
   "execution_count": null,
   "metadata": {},
   "outputs": [],
   "source": [
    "import pandas as pd\n",
    "import pandas_datareader.data as web\n",
    "import datetime as dt\n",
    "import pickle\n",
    "import os\n",
    "import numpy as np\n",
    "import matplotlib.pyplot as plt\n",
    "from matplotlib import style\n",
    "style.use('ggplot')"
   ]
  },
  {
   "cell_type": "code",
   "execution_count": null,
   "metadata": {},
   "outputs": [],
   "source": [
    "start = dt.datetime(2020,1,1)\n",
    "end = dt.date.today()"
   ]
  },
  {
   "cell_type": "code",
   "execution_count": null,
   "metadata": {},
   "outputs": [],
   "source": [
    "with open('nifty50.pickle','rb') as f:  #TICKERS OF TOP 50 COMPANIES IN NSE\n",
    "    tickers=pickle.load(f)"
   ]
  },
  {
   "cell_type": "code",
   "execution_count": null,
   "metadata": {
    "scrolled": true
   },
   "outputs": [],
   "source": [
    "if not os.path.exists('stock_df2'):\n",
    "    os.makedirs('stock_df2')\n",
    "    \n",
    "for ticker in tickers:\n",
    "    if not os.path.exists('stock_df2/{}.csv'.format(ticker)):\n",
    "        df= web.DataReader(ticker, 'yahoo', start , end)\n",
    "        df.to_csv('stock_df2/{}.csv'.format(ticker)) \n",
    "        df.rename(columns= {'Adj Close': ticker},inplace=True)\n",
    "        df.drop(['Open' ,'High', 'Low','Close', 'Volume'],1,inplace=True)"
   ]
  },
  {
   "cell_type": "code",
   "execution_count": null,
   "metadata": {
    "scrolled": true
   },
   "outputs": [],
   "source": [
    "buy_sell_hold=[]\n",
    "buy_sell_hold= pd.DataFrame()\n",
    "for ticker in tickers:\n",
    "    df= pd.read_csv('stock_df2/{}.csv'.format(ticker))\n",
    "    df.index= df['Date']\n",
    "    df['MA21']= df['Adj Close'].rolling(window= 21, min_periods=0).mean()\n",
    "    df['MA55']= df['Adj Close'].rolling(window= 55, min_periods=0).mean()\n",
    "    df['signal']= df['MA21']- df['MA55']>0\n",
    "   \n",
    "    df['{}'.format(ticker)]=0\n",
    "    df['EMA_{}' .format(ticker)] =0\n",
    "    df['DEMA_{}' .format(ticker)] =0\n",
    "    df['EMPTY_{}'.format(ticker)]= np.nan\n",
    "    \n",
    "    df['EMA21']= df['Adj Close']\n",
    "    df['EMA55']= df['Adj Close']\n",
    "    \n",
    "    df['DEMA21']= df['Adj Close']\n",
    "    df['DEMA55']= df['Adj Close']\n",
    "    \n",
    "    for i in range(1,len(df)):\n",
    "        if i==20:\n",
    "            df['EMA21'][i]= df['Adj Close'][:20].mean()\n",
    "        elif i>20:\n",
    "            df['EMA21'][i]= 2/22*df['Adj Close'][i]+ df['EMA21'][i-1]*20/22\n",
    "            \n",
    "        if i==54:\n",
    "            df['EMA55'][i]= df['Adj Close'][:54].mean()\n",
    "        elif i>54:\n",
    "            df['EMA55'][i]= 2/56*df['Adj Close'][i]+ df['EMA55'][i-1]*54/56\n",
    "\n",
    "        if i==20:\n",
    "            df['DEMA21'][i]= df['Adj Close'][:20].mean()\n",
    "        elif i>20:\n",
    "            df['DEMA21'][i]= 2*df['EMA21'][i] - 2/22*df['EMA21'][i]- df['DEMA21'][i-1]*20/22\n",
    "            \n",
    "        if i==54:\n",
    "            df['DEMA55'][i]= df['Adj Close'][:54].mean()\n",
    "        elif i>54:\n",
    "            df['DEMA55'][i]= 2*df['EMA55'][i] - 2/56*df['EMA55'][i]- df['DEMA55'][i-1]*54/56\n",
    "            \n",
    "        if (df['DEMA21'][i] -df['DEMA55'][i] >0)==1 and (df['DEMA21'][i-1] -df['DEMA55'][i-1] >0)==0:\n",
    "            df['DEMA_{}' .format(ticker)][i]=1\n",
    "        elif (df['DEMA21'][i] -df['DEMA55'][i] >0)==0 and (df['DEMA21'][i-1] -df['DEMA55'][i-1] >0)==1:\n",
    "            df['DEMA_{}' .format(ticker)][i]=-1\n",
    "            \n",
    "        if (df['EMA21'][i] -df['EMA55'][i] >0)==1 and (df['EMA21'][i-1] -df['EMA55'][i-1] >0)==0:\n",
    "            df['EMA_{}' .format(ticker)][i]=1\n",
    "        elif (df['EMA21'][i] -df['EMA55'][i] >0)==0 and (df['EMA21'][i-1] -df['EMA55'][i-1] >0)==1:\n",
    "            df['EMA_{}' .format(ticker)][i]=-1\n",
    "            \n",
    "        if df['signal'][i]==1 and df['signal'][i-1]==0:\n",
    "            df['{}'.format(ticker)][i]= 1\n",
    "        elif df['signal'][i]==0 and df['signal'][i-1]==1: \n",
    "            df['{}'.format(ticker)][i]= -1\n",
    "\n",
    "    buy_sell_hold= buy_sell_hold.join(df['{}'.format(ticker)][55:] ,  how='outer')\n",
    "    buy_sell_hold= buy_sell_hold.join(df['EMA_{}'.format(ticker)][55:] , how='outer')\n",
    "    buy_sell_hold= buy_sell_hold.join(df['DEMA_{}'.format(ticker)][55:] , how='outer')\n",
    "    buy_sell_hold= buy_sell_hold.join(df['EMPTY_{}'.format(ticker)][55:] , how='outer')\n"
   ]
  },
  {
   "cell_type": "code",
   "execution_count": null,
   "metadata": {},
   "outputs": [],
   "source": [
    "buy_sell_hold"
   ]
  },
  {
   "cell_type": "code",
   "execution_count": null,
   "metadata": {},
   "outputs": [],
   "source": [
    "if not os.path.exists('buy_sell_hold.csv'):\n",
    "    buy_sell_hold.to_csv('buy_sell_hold.csv')"
   ]
  }
 ],
 "metadata": {
  "kernelspec": {
   "display_name": "Python 3",
   "language": "python",
   "name": "python3"
  },
  "language_info": {
   "codemirror_mode": {
    "name": "ipython",
    "version": 3
   },
   "file_extension": ".py",
   "mimetype": "text/x-python",
   "name": "python",
   "nbconvert_exporter": "python",
   "pygments_lexer": "ipython3",
   "version": "3.7.4"
  }
 },
 "nbformat": 4,
 "nbformat_minor": 2
}
