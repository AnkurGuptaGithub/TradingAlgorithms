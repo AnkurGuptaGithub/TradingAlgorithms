{
 "cells": [
  {
   "cell_type": "code",
   "execution_count": 2,
   "metadata": {},
   "outputs": [],
   "source": [
    "import bs4 as bs\n",
    "import pickle\n",
    "import requests "
   ]
  },
  {
   "cell_type": "code",
   "execution_count": 22,
   "metadata": {},
   "outputs": [],
   "source": [
    "resp= requests.get('https://en.wikipedia.org/wiki/NIFTY_50')\n",
    "soup= bs.BeautifulSoup(resp.text)\n",
    "table= soup.find('table', {'class':'wikitable sortable'})\n",
    "tickers=[]"
   ]
  },
  {
   "cell_type": "code",
   "execution_count": 23,
   "metadata": {},
   "outputs": [],
   "source": [
    "for row in table.findAll('tr')[1:]:\n",
    "    ticker= row.findAll('td')[1].text\n",
    "    tickers.append(ticker)\n",
    "    \n",
    "with open(\"sp500tickers.pickle\", \"wb\") as f:\n",
    "    pickle.dump(tickers,f)"
   ]
  }
 ],
 "metadata": {
  "kernelspec": {
   "display_name": "Python 3",
   "language": "python",
   "name": "python3"
  },
  "language_info": {
   "codemirror_mode": {
    "name": "ipython",
    "version": 3
   },
   "file_extension": ".py",
   "mimetype": "text/x-python",
   "name": "python",
   "nbconvert_exporter": "python",
   "pygments_lexer": "ipython3",
   "version": "3.7.4"
  }
 },
 "nbformat": 4,
 "nbformat_minor": 2
}
