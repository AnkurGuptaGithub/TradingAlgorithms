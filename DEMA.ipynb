{
 "cells": [
  {
   "cell_type": "code",
   "execution_count": null,
   "metadata": {},
   "outputs": [],
   "source": [
    "import pandas as pd\n",
    "import pandas_datareader.data as web\n",
    "import datetime as dt\n",
    "import pickle\n",
    "import os\n",
    "import numpy as np\n",
    "import matplotlib.pyplot as plt\n",
    "from matplotlib import style\n",
    "import timeit\n",
    "style.use('ggplot')"
   ]
  },
  {
   "cell_type": "code",
   "execution_count": null,
   "metadata": {},
   "outputs": [],
   "source": [
    "end = dt.datetime(2018,1,1)\n",
    "start = dt.datetime(2016,1,1)"
   ]
  },
  {
   "cell_type": "code",
   "execution_count": null,
   "metadata": {},
   "outputs": [],
   "source": [
    "with open('nifty50.pickle','rb') as f:  #TICKERS OF TOP 50 COMPANIES IN NSE\n",
    "    tickers=pickle.load(f)"
   ]
  },
  {
   "cell_type": "code",
   "execution_count": null,
   "metadata": {
    "scrolled": true
   },
   "outputs": [],
   "source": [
    "if not os.path.exists('DEMA/stock_df2'):\n",
    "    os.makedirs('DEMA/stock_df2')\n",
    "    \n",
    "for ticker in tickers:\n",
    "     if not os.path.exists('DEMA/stock_df2/{}.csv'.format(ticker)):\n",
    "        if ticker== 'INFRATEL.NS':\n",
    "            continue\n",
    "        else:\n",
    "            df= web.DataReader(ticker, 'yahoo', start , end)\n",
    "            df['return'] = (df['Adj Close'] -df['Adj Close'].shift(1, fill_value= df['Adj Close'][0]))/df['Adj Close'].shift(1, fill_value= df['Adj Close'][0]) *100\n",
    "            df.to_csv('DEMA/stock_df2/{}.csv'.format(ticker)) \n",
    "#         df.rename(columns= {'Adj Close': ticker},inplace=True)\n",
    "#         df.drop(['Open' ,'High', 'Low','Close', 'Volume'],1,inplace=True)"
   ]
  },
  {
   "cell_type": "code",
   "execution_count": null,
   "metadata": {
    "scrolled": true
   },
   "outputs": [],
   "source": [
    "buy_sell_hold= []\n",
    "d=0\n",
    "f=50   #fast MA\n",
    "s=95   #slow MA\n",
    "t=60   #hold period\n",
    "buy_sell_hold= pd.DataFrame()\n",
    "for ticker in tickers:\n",
    "    if ticker !='INFRATEL.NS' and ticker !='HDFCLIFE.NS':\n",
    "        df= pd.read_csv('DEMA/stock_df2/{}.csv'.format(ticker))\n",
    "        df.index= df['Date']\n",
    "\n",
    "        df['EMA_F']= df['EMA_S']= df['DEMA_S']= df['DEMA_F']= df['signal']= df['DEMA_{}'.format(ticker)]= 0\n",
    "        df['EMA_F'][f] = df['Adj Close'][:f].mean()\n",
    "        df['EMA_S'][s] = df['Adj Close'][:s].mean()\n",
    "\n",
    "        df['DEMA_F'][f] = df['Adj Close'][:f].mean()        \n",
    "        df['DEMA_S'][s] = df['Adj Close'][:s].mean()\n",
    "\n",
    "        for i in range(f,len(df)):\n",
    "            df['EMA_F'][i]= 2/(f+2)*df['Adj Close'][i]+ df['EMA_F'][i-1]*f/(f+2)\n",
    "            df['DEMA_F'][i]= 2*df['EMA_F'][i] - 2/(f+2)*df['EMA_F'][i]- df['DEMA_F'][i-1]*f/(f+2)            \n",
    "\n",
    "            if i> s :\n",
    "                df['EMA_S'][i]= 2/(s+2)*df['Adj Close'][i]+ df['EMA_S'][i-1]*s/(s+2)\n",
    "                df['DEMA_S'][i]= 2*df['EMA_S'][i] - 2/(s+2)*df['EMA_S'][i]- df['DEMA_S'][i-1]*s/(s+2)\n",
    "\n",
    "            df['signal'][i]= (df['DEMA_F'][i]- df['DEMA_S'][i])>0\n",
    "            df['DEMA_{}'.format(ticker)][i] = df['signal'][i] - df['signal'][i-1]\n",
    "#             df['DEMA_{}'.format(ticker)] = df['signal'] - df['signal'].shift(1, fill_value=0)\n",
    "            if df['DEMA_{}'.format(ticker)][i]!=0 and i+t<len(df):\n",
    "                c=(df['Adj Close'][i]-df['Adj Close'][i+t])/df['Adj Close'][i]\n",
    "                d=d+ c*df['DEMA_{}'.format(ticker)][i]\n",
    "        df.rename(columns= {'Adj Close': ticker},inplace=True)        \n",
    "        buy_sell_hold= buy_sell_hold.join(df['{}'.format(ticker)][s+1:] , how='outer')\n",
    "        buy_sell_hold= buy_sell_hold.join(df['DEMA_{}'.format(ticker)][s+1:] , how='outer')\n"
   ]
  },
  {
   "cell_type": "code",
   "execution_count": null,
   "metadata": {},
   "outputs": [],
   "source": [
    "d"
   ]
  },
  {
   "cell_type": "code",
   "execution_count": null,
   "metadata": {},
   "outputs": [],
   "source": [
    "buy_sell_hold"
   ]
  },
  {
   "cell_type": "code",
   "execution_count": null,
   "metadata": {},
   "outputs": [],
   "source": [
    "# for i in range(100):\n",
    "#     if not os.path.exists('DEMA/buy_sell_hold{}.csv'.format(i)):\n",
    "#         buy_sell_hold.to_csv('DEMA/buy_sell_hold{}.csv'.format(i))\n",
    "#         break"
   ]
  },
  {
   "cell_type": "code",
   "execution_count": null,
   "metadata": {},
   "outputs": [],
   "source": [
    "plt.figure(figsize=(25,25))\n",
    "plt.plot(df['ZEEL.NS'][s:])\n",
    "plt.plot(df['DEMA_F'][s:])\n",
    "plt.scatter('2017-02-01',df['ZEEL.NS']['2017-02-01'])\n",
    "plt.scatter('2017-01-01',df['ZEEL.NS']['2017-01-01'])\n",
    "plt.plot(df['EMA_S'][s:]) "
   ]
  }
 ],
 "metadata": {
  "kernelspec": {
   "display_name": "Python 3",
   "language": "python",
   "name": "python3"
  },
  "language_info": {
   "codemirror_mode": {
    "name": "ipython",
    "version": 3
   },
   "file_extension": ".py",
   "mimetype": "text/x-python",
   "name": "python",
   "nbconvert_exporter": "python",
   "pygments_lexer": "ipython3",
   "version": "3.7.4"
  }
 },
 "nbformat": 4,
 "nbformat_minor": 2
}
